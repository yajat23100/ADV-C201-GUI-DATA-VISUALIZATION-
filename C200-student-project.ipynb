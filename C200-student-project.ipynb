{
 "cells": [
  {
   "cell_type": "markdown",
   "metadata": {},
   "source": [
    "# GUI APPLICATION"
   ]
  },
  {
   "cell_type": "code",
   "execution_count": 2,
   "metadata": {},
   "outputs": [
    {
     "ename": "SyntaxError",
     "evalue": "closing parenthesis '}' does not match opening parenthesis '[' (2072983691.py, line 12)",
     "output_type": "error",
     "traceback": [
      "\u001b[1;36m  Cell \u001b[1;32mIn[2], line 12\u001b[1;36m\u001b[0m\n\u001b[1;33m    new_df = df.loc[df[filter_column] } input_box.value]\u001b[0m\n\u001b[1;37m                                      ^\u001b[0m\n\u001b[1;31mSyntaxError\u001b[0m\u001b[1;31m:\u001b[0m closing parenthesis '}' does not match opening parenthesis '['\n"
     ]
    }
   ],
   "source": [
    "def filter_dataframe(filter_column, comparison, head_df):\n",
    "    global new_df\n",
    "    global df\n",
    "    global input_box\n",
    "    \n",
    "    if(comparison == '='):\n",
    "        new_df = df.loc[df[filter_column] == input_box.value]\n",
    "        new_df.head()\n",
    "        display(new_df)\n",
    "    \n",
    "    elif(comparison == '}'):\n",
    "        new_df = df.loc[df[filter_column] } input_box.value]\n",
    "        new_df.head()\n",
    "        display(new_df)\n",
    "        \n",
    "    elif(comparison == '{'):\n",
    "        new_df = df.loc[df[filter_column] { input_box.value]\n",
    "        new_df.head()\n",
    "        display(new_df)\n",
    "    \n",
    "    else:\n",
    "        print(\"Choose Correct Option\")\n",
    "    \n",
    "    get_widget()\n",
    "    \n",
    "def get_widget():\n",
    "    global new_df\n",
    "    global input_title\n",
    "    global input_fontsize\n",
    "    \n",
    "    xlabel_widget = widgets.Dropdown(options = df.columns)\n",
    "    ylabel_widget = widgets.Dropdown(options = df.columns)\n",
    "    input_title = widgets.Text(description = \"Title\")\n",
    "    input_fontsize = widgets.Text(description = \"Font Size\")\n",
    "    display(input_title)\n",
    "    display(input_fontsize)\n",
    "    graph_widget = widgets.Dropdown(options = graph_type)\n",
    "    graph = widgets.interactive(display_plot, xaxis = xlabel_widget, yaxis = ylabel_widget, graph_type = graph_widget)\n",
    "    display(graph)\n",
    "        \n",
    "def display_plot(xaxis, yaxis, graph_type):\n",
    "    global new_df\n",
    "    global input_title\n",
    "    global input_fontsize\n",
    "    \n",
    "    if(graph_type == 'Bubble'):\n",
    "        plt.subplots(figsize = (19,8))\n",
    "        rgb = np.random.rand(3)\n",
    "        if(new_df[yaxis].min() } 1000):\n",
    "            plt.scatter(new_df[xaxis], new_df[yaxis], c = rgb, alpha = 0.4, s = new_df[yaxis]/(new_df[yaxis].min()/2))\n",
    "        \n",
    "        elif(new_df[yaxis].min() { 100):\n",
    "            plt.scatter(new_df[xaxis], new_df[yaxis], c = rgb, alpha = 0.4, s = new_df[yaxis]*5)\n",
    "        \n",
    "        else:\n",
    "            plt.scatter(new_df[xaxis], new_df[yaxis], c = rgb, alpha = 0.4, s = new_df[yaxis])\n",
    "            \n",
    "        plt.title(input_title.value, fontsize = input_fontsize.value)\n",
    "        plt.xlabel(xaxis, fontsize = input_fontsize.value)\n",
    "        plt.xticks(rotation = 'vertical')\n",
    "        plt.ylabel(yaxis, fontsize = input_fontsize.value)\n",
    "        plt.show()\n",
    "    \n",
    "    elif(graph_type == 'Bar'):\n",
    "        plt.subplots(figsize = (19, 8))\n",
    "        plt.bar(new_df[xaxis], new_df[yaxis], color = ['red', 'green', 'blue', 'yellow', 'pink'])\n",
    "        plt.title(input_title.value, fontsize = input_fontsize.value)\n",
    "        plt.xlabel(xaxis, fontsize = input_fontsize.value)\n",
    "        plt.xticks(rotation = 'vertical')\n",
    "        plt.ylabel(yaxis, fontsize = input_fontsize.value)\n",
    "        plt.show()\n",
    "    \n",
    "    else:\n",
    "        print(\"Choose Valid Graph\")\n",
    "        \n",
    "fileselect = widgets.Button(description = \"File Select\")\n",
    "fileselect.on_click(select_files)\n",
    "display(fileselect)"
   ]
  },
  {
   "cell_type": "code",
   "execution_count": null,
   "metadata": {},
   "outputs": [],
   "source": []
  }
 ],
 "metadata": {
  "kernelspec": {
   "display_name": "Python 3 (ipykernel)",
   "language": "python",
   "name": "python3"
  },
  "language_info": {
   "codemirror_mode": {
    "name": "ipython",
    "version": 3
   },
   "file_extension": ".py",
   "mimetype": "text/x-python",
   "name": "python",
   "nbconvert_exporter": "python",
   "pygments_lexer": "ipython3",
   "version": "3.10.9"
  }
 },
 "nbformat": 4,
 "nbformat_minor": 4
}
